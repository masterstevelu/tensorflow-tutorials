{
 "cells": [
  {
   "cell_type": "code",
   "execution_count": 26,
   "metadata": {},
   "outputs": [
    {
     "name": "stdout",
     "output_type": "stream",
     "text": [
      "epoch 0 loss 3.2356772 W [-0.01773649]\n",
      "epoch 50 loss 0.10403278 W [0.34497234]\n",
      "epoch 100 loss 0.10093289 W [0.33947283]\n",
      "epoch 150 loss 0.09818753 W [0.3342973]\n",
      "epoch 200 loss 0.095756166 W [0.32942677]\n",
      "epoch 250 loss 0.093602866 W [0.3248432]\n",
      "epoch 300 loss 0.09169584 W [0.32052964]\n",
      "epoch 350 loss 0.09000694 W [0.31647032]\n",
      "epoch 400 loss 0.088511184 W [0.31265017]\n",
      "epoch 450 loss 0.08718651 W [0.30905506]\n",
      "epoch 500 loss 0.08601334 W [0.3056718]\n",
      "epoch 550 loss 0.084974356 W [0.3024879]\n",
      "epoch 600 loss 0.08405418 W [0.29949158]\n",
      "epoch 650 loss 0.08323925 W [0.29667184]\n",
      "epoch 700 loss 0.08251753 W [0.2940182]\n",
      "epoch 750 loss 0.08187835 W [0.29152092]\n",
      "epoch 800 loss 0.08131227 W [0.28917074]\n",
      "epoch 850 loss 0.080810934 W [0.2869591]\n",
      "epoch 900 loss 0.08036693 W [0.28487775]\n",
      "epoch 950 loss 0.07997372 W [0.28291905]\n",
      "Optimization Finished!\n",
      "Final Result: loss 0.07997372 W [0.28111154] b [0.5898254]\n"
     ]
    },
    {
     "data": {
      "image/png": "[encoded data removed]",
      "text/plain": [
       "<Figure size 432x288 with 1 Axes>"
      ]
     },
     "metadata": {},
     "output_type": "display_data"
    }
   ],
   "source": [
    "%matplotlib inline\n",
    "\n",
    "import numpy\n",
    "import tensorflow as tf\n",
    "import matplotlib.pyplot as plt\n",
    "\n",
    "# 初始化训练数据\n",
    "# 训练数据为一维向量\n",
    "train_X = numpy.asarray([3.3,4.4,5.5,6.71,6.93,4.168,9.779,6.182,7.59,2.167,\n",
    "                         7.042,10.791,5.313,7.997,5.654,9.27,3.1]) \n",
    "train_Y = numpy.asarray([1.7,2.76,2.09,3.19,1.694,1.573,3.366,2.596,2.53,1.221,\n",
    "                         2.827,3.465,1.65,2.904,2.42,2.94,1.3])\n",
    "\n",
    "n_samples = train_X.shape[0]\n",
    "\n",
    "learning_rate = 0.01     #设置学习率\n",
    "training_epochs = 1000   #设置训练步数\n",
    "display_step = 50        #设置结果显示步数\n",
    "\n",
    "# X Y的占位符,设置成32位浮点数\n",
    "X = tf.placeholder(tf.float32)\n",
    "Y = tf.placeholder(tf.float32)\n",
    "\n",
    "# 设置随机权重(weight),设置偏差(bias)为零\n",
    "W = tf.Variable(tf.truncated_normal([1]))\n",
    "b = tf.Variable(tf.zeros([1]))\n",
    "\n",
    "# 预测值\n",
    "y_pred = tf.add(tf.multiply(W, X), b)\n",
    "\n",
    "# 损失函数\n",
    "loss = tf.reduce_sum(tf.square(y_pred - Y)) / (2*n_samples)\n",
    "\n",
    "# 优化方法：梯度下降\n",
    "optimizer = tf.train.GradientDescentOptimizer(learning_rate).minimize(loss)\n",
    "\n",
    "# 初始化所有variables，这里包括 W 和 b\n",
    "init = tf.global_variables_initializer()\n",
    "\n",
    "with tf.Session() as sess:\n",
    "    sess.run(init)\n",
    "    for epoch in range(training_epochs):\n",
    "        sess.run(optimizer, feed_dict={X:train_X, Y: train_Y})\n",
    "        if (epoch % display_step == 0):\n",
    "            cur_loss = sess.run(loss, feed_dict={X:train_X, Y:train_Y})\n",
    "            print(\"epoch \" + str(epoch) + \" loss \" + str(cur_loss) + \" W \" + str(sess.run(W)))\n",
    "    print(\"Optimization Finished!\")\n",
    "    print(\"Final Result: loss \" + str(cur_loss) + \" W \" + str(sess.run(W)) + \" b \" + str(sess.run(b)))\n",
    "    \n",
    "    plt.plot(train_X, train_Y, 'ro', label='Original data')\n",
    "    plt.plot(train_X, sess.run(W) * train_X + sess.run(b), label='Fitted line')\n",
    "    plt.legend()\n",
    "    plt.show()"
   ]
  },
  {
   "cell_type": "code",
   "execution_count": null,
   "metadata": {},
   "outputs": [],
   "source": []
  }
 ],
 "metadata": {
  "kernelspec": {
   "display_name": "Python 3",
   "language": "python",
   "name": "python3"
  },
  "language_info": {
   "codemirror_mode": {
    "name": "ipython",
    "version": 3
   },
   "file_extension": ".py",
   "mimetype": "text/x-python",
   "name": "python",
   "nbconvert_exporter": "python",
   "pygments_lexer": "ipython3",
   "version": "3.6.4"
  }
 },
 "nbformat": 4,
 "nbformat_minor": 2
}
